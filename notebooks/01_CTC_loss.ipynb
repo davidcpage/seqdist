{
 "cells": [
  {
   "cell_type": "markdown",
   "metadata": {},
   "source": [
    "<a href=\"https://colab.research.google.com/github/davidcpage/seqdist/blob/master/notebooks/01_CTC_loss.ipynb\" target=\"_parent\"><img src=\"https://colab.research.google.com/assets/colab-badge.svg\" alt=\"Open In Colab\"/></a>"
   ]
  },
  {
   "cell_type": "code",
   "execution_count": null,
   "metadata": {},
   "outputs": [],
   "source": [
    "# default_exp ctc"
   ]
  },
  {
   "cell_type": "markdown",
   "metadata": {},
   "source": [
    "# CTC loss\n",
    "\n",
    "> A simple and somewhat efficient implementation of the standard [CTC loss function](http://www.cs.toronto.edu/~graves/icml_2006.pdf) using pytorch and cupy."
   ]
  },
  {
   "cell_type": "code",
   "execution_count": null,
   "metadata": {},
   "outputs": [
    {
     "name": "stdout",
     "output_type": "stream",
     "text": [
      "Fri May 29 09:22:22 2020       \n",
      "+-----------------------------------------------------------------------------+\n",
      "| NVIDIA-SMI 440.82       Driver Version: 418.67       CUDA Version: 10.1     |\n",
      "|-------------------------------+----------------------+----------------------+\n",
      "| GPU  Name        Persistence-M| Bus-Id        Disp.A | Volatile Uncorr. ECC |\n",
      "| Fan  Temp  Perf  Pwr:Usage/Cap|         Memory-Usage | GPU-Util  Compute M. |\n",
      "|===============================+======================+======================|\n",
      "|   0  Tesla K80           Off  | 00000000:00:04.0 Off |                    0 |\n",
      "| N/A   72C    P8    82W / 149W |      0MiB / 11441MiB |      0%      Default |\n",
      "+-------------------------------+----------------------+----------------------+\n",
      "                                                                               \n",
      "+-----------------------------------------------------------------------------+\n",
      "| Processes:                                                       GPU Memory |\n",
      "|  GPU       PID   Type   Process name                             Usage      |\n",
      "|=============================================================================|\n",
      "|  No running processes found                                                 |\n",
      "+-----------------------------------------------------------------------------+\n"
     ]
    }
   ],
   "source": [
    "!nvidia-smi"
   ]
  },
  {
   "cell_type": "code",
   "execution_count": null,
   "metadata": {},
   "outputs": [],
   "source": [
    "#export\n",
    "import numpy as np\n",
    "import cupy as cp\n",
    "import torch\n",
    "import torch.nn as nn\n",
    "from collections import namedtuple\n",
    "from seqdist.utils import *\n",
    "\n",
    "device = torch.device('cuda') if torch.cuda.is_available() else torch.device('cpu')"
   ]
  },
  {
   "cell_type": "markdown",
   "metadata": {},
   "source": [
    "## Preliminaries"
   ]
  },
  {
   "cell_type": "markdown",
   "metadata": {},
   "source": [
    "Generate a test example:"
   ]
  },
  {
   "cell_type": "code",
   "execution_count": null,
   "metadata": {},
   "outputs": [],
   "source": [
    "#export\n",
    "def generate_sample_inputs(T_min, T_max, N, C, L_min, L_max, device=device):\n",
    "    \"\"\"\n",
    "    Args:\n",
    "        T_min, T_max: bounds on number of time steps\n",
    "        N: batch size\n",
    "        C: alphabet size (including blank)\n",
    "        L_min, L_max: bounds on target length\n",
    "    \"\"\"\n",
    "    logits = torch.randn(T_max, N, C, device=device, requires_grad=True)\n",
    "    targets = torch.randint(1, C, (N, L_max), dtype=torch.long, device=device)\n",
    "    input_lengths = torch.randint(T_min, T_max+1, (N,), dtype=torch.long, device=device)\n",
    "    target_lengths = torch.randint(L_min, L_max+1, (N,), dtype=torch.long, device=device)\n",
    "    return logits, targets, input_lengths, target_lengths"
   ]
  },
  {
   "cell_type": "markdown",
   "metadata": {},
   "source": [
    "NB: The pytorch (1.5.0) CTC loss has inconsistent behaviour for input logits which haven't been through log_softmax. The standard pytorch backend produces an incorrect gradient in this case and the standard and Cudnn backends return different results as demonstrated here:"
   ]
  },
  {
   "cell_type": "code",
   "execution_count": null,
   "metadata": {},
   "outputs": [
    {
     "name": "stdout",
     "output_type": "stream",
     "text": [
      "log_softmax\n",
      "torch:  6.0089\n",
      "cudnn:  6.0089\n",
      "\n",
      "no log_softmax\n",
      "torch:  -2.8939\n",
      "cudnn:  6.0089\n"
     ]
    }
   ],
   "source": [
    "logits, targets, input_lengths, target_lengths = generate_sample_inputs(50, 50, 8, 20, 10, 30)\n",
    "targets_cudnn = torch.cat([t[:l] for t,l in zip(targets, target_lengths)]).to(torch.int).cpu() #triggers the cudnn backend \n",
    "\n",
    "print('log_softmax')\n",
    "print('torch:  {:.4f}'.format(nn.functional.ctc_loss(logits.log_softmax(2), targets, input_lengths, target_lengths)))\n",
    "print('cudnn: {:.4f}\\n'.format(nn.functional.ctc_loss(logits.log_softmax(2), targets_cudnn, input_lengths, target_lengths)))\n",
    "\n",
    "print('no log_softmax')\n",
    "print('torch:  {:.4f}'.format(nn.functional.ctc_loss(logits, targets, input_lengths, target_lengths)))\n",
    "print('cudnn:  {:.4f}'.format(nn.functional.ctc_loss(logits, targets_cudnn, input_lengths, target_lengths)))"
   ]
  },
  {
   "cell_type": "markdown",
   "metadata": {},
   "source": [
    "To avoid the issue, let's define all our CTC losses to accept logits and apply log_softmax internally (similarly to what the Cudnn loss does):"
   ]
  },
  {
   "cell_type": "code",
   "execution_count": null,
   "metadata": {},
   "outputs": [],
   "source": [
    "#export\n",
    "def loss_pytorch(logits, targets, input_lengths, target_lengths, blank=0, reduction='mean', zero_infinity=False):\n",
    "    log_probs = logits.log_softmax(2)\n",
    "    return nn.functional.ctc_loss(log_probs, targets, input_lengths, target_lengths, blank, reduction, zero_infinity)"
   ]
  },
  {
   "cell_type": "code",
   "execution_count": null,
   "metadata": {},
   "outputs": [
    {
     "data": {
      "text/plain": [
       "12.637479782104492"
      ]
     },
     "execution_count": null,
     "metadata": {
      "tags": []
     },
     "output_type": "execute_result"
    }
   ],
   "source": [
    "sample_inputs = logits, targets, input_lengths, target_lengths = generate_sample_inputs(T_min=450, T_max=500, N=128, C=20, L_min=80, L_max=100)\n",
    "loss_pytorch(*sample_inputs).item()"
   ]
  },
  {
   "cell_type": "code",
   "execution_count": null,
   "metadata": {},
   "outputs": [
    {
     "name": "stdout",
     "output_type": "stream",
     "text": [
      "fwd: 4.70ms (3.96-5.30ms)\n",
      "bwd: 9.80ms (8.59-10.84ms)\n",
      "tot: 14.50ms (13.15-15.57ms)\n"
     ]
    }
   ],
   "source": [
    "report(benchmark_fwd_bwd(loss_pytorch, *sample_inputs))"
   ]
  },
  {
   "cell_type": "markdown",
   "metadata": {},
   "source": [
    "## Loss implementations"
   ]
  },
  {
   "cell_type": "markdown",
   "metadata": {},
   "source": [
    "### 1. Basic pytorch"
   ]
  },
  {
   "cell_type": "markdown",
   "metadata": {},
   "source": [
    "Here's a straightforward implementation in pytorch. As is standard, we're working in logspace for numerical stability. In the interests of clarity, we've encapsulated the logspace arithmetic into an object: Log.\n"
   ]
  },
  {
   "cell_type": "code",
   "execution_count": null,
   "metadata": {},
   "outputs": [],
   "source": [
    "#export\n",
    "semiring = namedtuple('semiring', ('zero', 'one', 'mul', 'sum', 'dsum'))\n",
    "neginf = -1e38\n",
    "Log = semiring(zero=neginf, one=0., mul=torch.add, sum=torch.logsumexp, dsum=torch.softmax)\n",
    "\n",
    "def interleave_blanks(targets, blank_idx: int):\n",
    "    N, L = targets.shape\n",
    "    interleaved = targets.new_full((N, 2*L+1), blank_idx)\n",
    "    interleaved[:, 1::2] = targets\n",
    "    return interleaved\n",
    "\n",
    "def prepare_inputs(scores, targets, input_lengths, target_lengths):\n",
    "    states = interleave_blanks(targets, blank_idx=0)\n",
    "    state_scores = torch.gather(scores, 2, states.expand(scores.size(0), -1, -1))\n",
    "    repeat_mask = torch.nn.functional.pad(states[:, 2:] == states[:, :-2], (2, 0), value=0.)\n",
    "    final_states = torch.stack([target_lengths*2-1, target_lengths*2], 1)  \n",
    "    return state_scores, repeat_mask, final_states, input_lengths\n",
    "\n",
    "def _logz_fwd(state_scores, repeat_mask, final_states, input_lengths, S:semiring=Log):\n",
    "    T, N, Lp = state_scores.shape\n",
    "    zeros = state_scores.new_full((N, Lp), S.zero)\n",
    "    a = state_scores.new_full((N, Lp+2), S.zero)\n",
    "    a[:, 2] = S.one\n",
    "    alpha = torch.empty_like(state_scores)\n",
    "    for t in range(0, T):\n",
    "        alpha[t] = a[:, 2:] = S.mul(state_scores[t], S.sum(\n",
    "            torch.stack([a[:, 2:], a[:, 1:-1], torch.where(repeat_mask, zeros, a[:, :-2])]), dim=0))\n",
    "    return S.sum(alpha[input_lengths-1, torch.arange(N)].gather(1, final_states), dim=1)\n",
    "\n",
    "def loss_basic(logits, targets, input_lengths, target_lengths):\n",
    "    log_probs = logits.log_softmax(2)\n",
    "    logz = _logz_fwd(*prepare_inputs(log_probs, targets, input_lengths, target_lengths))\n",
    "    return -(logz / target_lengths).mean()"
   ]
  },
  {
   "cell_type": "markdown",
   "metadata": {},
   "source": [
    "It works:"
   ]
  },
  {
   "cell_type": "code",
   "execution_count": null,
   "metadata": {},
   "outputs": [
    {
     "name": "stdout",
     "output_type": "stream",
     "text": [
      "fwd diff: 0.00e+00\n",
      "bwd diff: 4.55e-13\n"
     ]
    }
   ],
   "source": [
    "compare_fwd_bwd(float64(loss_pytorch), float64(loss_basic), *sample_inputs);"
   ]
  },
  {
   "cell_type": "code",
   "execution_count": null,
   "metadata": {},
   "outputs": [
    {
     "name": "stdout",
     "output_type": "stream",
     "text": [
      "fwd diff: 0.00e+00\n",
      "bwd diff: 1.10e-07\n"
     ]
    }
   ],
   "source": [
    "compare_fwd_bwd(loss_pytorch, loss_basic, *sample_inputs);"
   ]
  },
  {
   "cell_type": "markdown",
   "metadata": {},
   "source": [
    "But it's very slow (roughly 100x slower than the native pytorch version):\n",
    "\n"
   ]
  },
  {
   "cell_type": "code",
   "execution_count": null,
   "metadata": {},
   "outputs": [
    {
     "name": "stdout",
     "output_type": "stream",
     "text": [
      "fwd: 212.33ms (196.86-240.76ms)\n",
      "bwd: 1057.07ms (1056.57-1057.61ms)\n",
      "tot: 1269.41ms (1253.75-1297.93ms)\n"
     ]
    }
   ],
   "source": [
    "report(benchmark_fwd_bwd(loss_basic, *sample_inputs))"
   ]
  },
  {
   "cell_type": "markdown",
   "metadata": {},
   "source": [
    "### 2. Pytorch with grad"
   ]
  },
  {
   "cell_type": "markdown",
   "metadata": {},
   "source": [
    "Our aim here is twofold. First we want to compute grads explicitly rather than relying on pytorch autograd. It's a good idea to do this in pytorch to iron out bugs before dropping to cuda. \n",
    "\n",
    "Secondly we want to restructure the code ready to call a cuda implementation of the inner loop. This requires an outer function (fwd_bwd) to setup result arrays which gets filled in by the inner loop (_fwd_bwd_py or later on _fwd_bwd_cupy.) "
   ]
  },
  {
   "cell_type": "code",
   "execution_count": null,
   "metadata": {},
   "outputs": [],
   "source": [
    "#export\n",
    "def fwd_bwd(state_scores, repeat_mask, final_states, input_lengths, fwd_bwd_impl, S:semiring=Log):\n",
    "    T, N, Lp = state_scores.shape\n",
    "    alpha, beta = [state_scores.new_full((T+1, N, Lp), S.zero) for _ in range(2)]\n",
    "    alpha[0, :, 0] = S.one  \n",
    "    beta[input_lengths, torch.arange(N)] = state_scores.new_full((N, Lp), S.zero).scatter_(1, final_states, S.one)\n",
    "    alpha_T = fwd_bwd_impl(alpha, beta, state_scores, repeat_mask, input_lengths, S)\n",
    "    logz = S.sum(alpha_T.gather(1, final_states), dim=1)\n",
    "    return alpha, beta, logz \n",
    "\n",
    "def _fwd_bwd_py(alpha, beta, state_scores, repeat_mask, input_lengths, S:semiring=Log):\n",
    "    T, N, Lp = state_scores.shape\n",
    "    zeros = alpha.new_full((1,), S.zero)\n",
    "    #fwd\n",
    "    a = torch.cat([alpha.new_full((N, 2), S.zero), alpha[0]], 1)\n",
    "    for t in range(0, T):\n",
    "        a[:, 2:] = S.mul(state_scores[t], S.sum(torch.stack([a[:, 2:], a[:, 1:-1], torch.where(repeat_mask, zeros, a[:, :-2])]), dim=0)) \n",
    "        alpha[t+1] = a[:, 2:]\n",
    "    #bwd\n",
    "    b = alpha.new_full((N, Lp+2), S.zero)\n",
    "    repeat_mask = torch.cat([repeat_mask[:, 2:], repeat_mask[:, :2]], 1)\n",
    "    for t in range(T, 0, -1):\n",
    "        b[:, :-2] = S.mul(beta[t], state_scores[t-1])\n",
    "        b[:, :-2] = S.sum(torch.stack([b[:, :-2], b[:, 1:-1], torch.where(repeat_mask, zeros, b[:, 2:])]), dim=0)\n",
    "        beta[t-1, t <= input_lengths] = b[t <= input_lengths, :-2]\n",
    "\n",
    "    return alpha[input_lengths, torch.arange(N)]\n",
    "\n",
    "def masked_grad(grad, input_lengths):\n",
    "    input_mask = (torch.arange(grad.size(0), device=grad.device)[:, None] < input_lengths)\n",
    "    return torch.where(input_mask, grad, grad.new_zeros((1,))).unsqueeze(2)    \n",
    "\n",
    "class _Logz(torch.autograd.Function):\n",
    "    @staticmethod\n",
    "    def forward(ctx, state_scores, repeat_mask, final_states, input_lengths, fwd_bwd_impl):\n",
    "        alpha, beta, logz = fwd_bwd(state_scores, repeat_mask, final_states, input_lengths, fwd_bwd_impl, Log)\n",
    "        ctx.save_for_backward(alpha, beta, input_lengths)\n",
    "        return logz\n",
    "\n",
    "    @staticmethod\n",
    "    def backward(ctx, grad):\n",
    "        alpha, beta, input_lengths = ctx.saved_tensors\n",
    "        g = torch.softmax(alpha[1:] + beta[1:], dim=2) * masked_grad(grad.expand(alpha.size(0)-1, -1), input_lengths)\n",
    "        return g, None, None, None, None\n",
    "\n",
    "def loss_py(logits, targets, input_lengths, target_lengths):\n",
    "    logz = _Logz.apply(*prepare_inputs(logits.log_softmax(2), targets, input_lengths, target_lengths), _fwd_bwd_py)\n",
    "    return - (logz / target_lengths).mean()"
   ]
  },
  {
   "cell_type": "code",
   "execution_count": null,
   "metadata": {},
   "outputs": [
    {
     "name": "stdout",
     "output_type": "stream",
     "text": [
      "fwd diff: 0.00e+00\n",
      "bwd diff: 4.55e-13\n"
     ]
    }
   ],
   "source": [
    "fwds, bwds = compare_fwd_bwd(float64(loss_pytorch), float64(loss_py, *sample_inputs)"
   ]
  },
  {
   "cell_type": "code",
   "execution_count": null,
   "metadata": {},
   "outputs": [
    {
     "name": "stdout",
     "output_type": "stream",
     "text": [
      "fwd diff: 0.00e+00\n",
      "bwd diff: 1.00e-07\n"
     ]
    }
   ],
   "source": [
    "fwds, bwds = compare_fwd_bwd(loss_pytorch, loss_py, *sample_inputs)"
   ]
  },
  {
   "cell_type": "code",
   "execution_count": null,
   "metadata": {},
   "outputs": [
    {
     "name": "stdout",
     "output_type": "stream",
     "text": [
      "fwd: 534.67ms (504.20-596.38ms)\n",
      "bwd: 6.62ms (6.58-6.78ms)\n",
      "tot: 541.29ms (510.89-602.96ms)\n"
     ]
    }
   ],
   "source": [
    "report(benchmark_fwd_bwd(loss_py, *sample_inputs))"
   ]
  },
  {
   "cell_type": "markdown",
   "metadata": {},
   "source": [
    "### 3. Cupy"
   ]
  },
  {
   "cell_type": "code",
   "execution_count": null,
   "metadata": {},
   "outputs": [
    {
     "name": "stdout",
     "output_type": "stream",
     "text": [
      "Overwriting ctc.cu\n"
     ]
    }
   ],
   "source": [
    "%%writefile cuda/ctc.cu\n",
    "__device__ __forceinline__ FLOAT max3(FLOAT a, FLOAT a1, FLOAT a2) {\n",
    "    FLOAT maxa = a > a1 ? a : a1; \n",
    "    return maxa > a2 ? maxa : a2;\n",
    "}\n",
    "\n",
    "__device__ __forceinline__ FLOAT logsumexp3(FLOAT a, FLOAT a1, FLOAT a2) {\n",
    "    FLOAT maxa = max3(a, a1, a2); \n",
    "    return maxa + log(exp(a-maxa) + exp(a1-maxa) + exp(a2-maxa));\n",
    "}\n",
    "\n",
    "__device__ __forceinline__ FLOAT sum3(FLOAT a, FLOAT a1, FLOAT a2) {return a + a1 + a2;}\n",
    "__device__ __forceinline__ FLOAT add(FLOAT a, FLOAT b) {return a + b;}\n",
    "__device__ __forceinline__ FLOAT mul(FLOAT a, FLOAT b) {return a * b;}\n",
    "\n",
    "extern \"C\" __global__ void fwd_bwd_logspace(\n",
    "    FLOAT* __restrict__ alpha_T, \n",
    "    FLOAT* __restrict__ alpha, FLOAT* __restrict__ beta,  \n",
    "    const FLOAT* __restrict__ scores,  const bool* __restrict__ repeat_mask, \n",
    "    const long* __restrict__ lengths,\n",
    "    int N, int L\n",
    ") {\n",
    "    int bx = blockIdx.x, tx = threadIdx.x;\n",
    "    if (tx >= L) return;\n",
    "    extern __shared__ FLOAT smem[];\n",
    "    int T = (int) lengths[bx];\n",
    "    if (blockIdx.y == 0) {\n",
    "        FLOAT a = ZERO, a1 = ZERO, a2 = ZERO;\n",
    "        a = alpha[bx * L + tx];\n",
    "        for (int t = 0; t < T; t++) {\n",
    "            FLOAT *buf = smem + (t % 2) * blockDim.x;\n",
    "            buf[tx] = a; __syncthreads(); \n",
    "            if (tx > 0) a1 = buf[tx - 1];\n",
    "            if (tx > 1) if (!repeat_mask[bx * L + tx]) a2 = buf[tx - 2];\n",
    "            a = MUL(scores[(t * N + bx) * L + tx], SUM(a, a1, a2));\n",
    "            alpha[((t + 1) * N + bx) * L + tx] = a;\n",
    "        }\n",
    "        alpha_T[bx*L + tx] = a;\n",
    "    }\n",
    "    else {\n",
    "        FLOAT b = ZERO, b1 = ZERO, b2 = ZERO;\n",
    "        b = beta[(T * N + bx) * L + tx];\n",
    "        for (int t = T; t > 0; t--) {\n",
    "            FLOAT *buf = smem + (t % 2) * blockDim.x;\n",
    "            b = buf[tx] = MUL(b, scores[(((t - 1) * N + bx) * L) + tx]);\n",
    "            __syncthreads(); \n",
    "            if (tx < L - 1) b1 = buf[tx+1];\n",
    "            if (tx < L - 2) if (!repeat_mask[bx * L + tx + 2]) b2 = buf[tx + 2];\n",
    "            b = beta[((t - 1) * N + bx) * L + tx] = SUM(b, b1, b2);\n",
    "        }\n",
    "    }\n",
    "  }"
   ]
  },
  {
   "cell_type": "code",
   "execution_count": null,
   "metadata": {},
   "outputs": [],
   "source": [
    "#export\n",
    "cupy_funcs = {\n",
    "    (torch.float32, Log): load_cupy_func('cuda/ctc.cu', 'fwd_bwd_logspace', FLOAT='float',  SUM='logsumexp3', MUL='add', ZERO='{:E}'.format(Log.zero)),\n",
    "    (torch.float64, Log): load_cupy_func('cuda/ctc.cu', 'fwd_bwd_logspace', FLOAT='double', SUM='logsumexp3', MUL='add', ZERO='{:E}'.format(Log.zero)),\n",
    "}\n",
    "\n",
    "def _fwd_bwd_cupy(alpha, beta, state_scores, repeat_mask, input_lengths, S:semiring):\n",
    "    T, N, Lp = state_scores.shape\n",
    "    alpha_T = torch.empty_like(alpha[0])\n",
    "    with cp.cuda.Device(state_scores.device.index):\n",
    "        cupy_funcs[(state_scores.dtype, S)](grid=(N, 2, 1), block=(Lp, 1, 1), shared_mem=2*8*Lp,\n",
    "               args=(alpha_T.data_ptr(), alpha.data_ptr(), beta.data_ptr(), state_scores.data_ptr(), repeat_mask.data_ptr(), \n",
    "                     input_lengths.data_ptr(), N, Lp))\n",
    "    return alpha_T\n",
    "\n",
    "def loss_cupy(logits, targets, input_lengths, target_lengths):\n",
    "    logz = _Logz.apply(*prepare_inputs(logits.log_softmax(2), targets, input_lengths, target_lengths), _fwd_bwd_cupy)\n",
    "    return - (logz / target_lengths).mean()"
   ]
  },
  {
   "cell_type": "code",
   "execution_count": null,
   "metadata": {},
   "outputs": [
    {
     "name": "stdout",
     "output_type": "stream",
     "text": [
      "fwd diff: 0.00e+00\n",
      "bwd diff: 4.55e-13\n"
     ]
    }
   ],
   "source": [
    "fwds, bwds = compare_fwd_bwd(float64(loss_pytorch), float64(loss_cupy), *sample_inputs)"
   ]
  },
  {
   "cell_type": "code",
   "execution_count": null,
   "metadata": {},
   "outputs": [
    {
     "name": "stdout",
     "output_type": "stream",
     "text": [
      "fwd diff: 0.00e+00\n",
      "bwd diff: 1.00e-07\n"
     ]
    }
   ],
   "source": [
    "fwds, bwds = compare_fwd_bwd(loss_pytorch, loss_cupy, *sample_inputs)"
   ]
  },
  {
   "cell_type": "code",
   "execution_count": null,
   "metadata": {},
   "outputs": [
    {
     "name": "stdout",
     "output_type": "stream",
     "text": [
      "fwd: 6.51ms (5.94-8.54ms)\n",
      "bwd: 5.18ms (4.83-6.53ms)\n",
      "tot: 11.69ms (10.78-14.93ms)\n"
     ]
    }
   ],
   "source": [
    "report(benchmark_fwd_bwd(loss_cupy, *sample_inputs, nloops=100))"
   ]
  },
  {
   "cell_type": "markdown",
   "metadata": {},
   "source": [
    "## Viterbi alignments"
   ]
  },
  {
   "cell_type": "code",
   "execution_count": null,
   "metadata": {},
   "outputs": [],
   "source": [
    "#export\n",
    "def max_grad(x, dim=0): \n",
    "    return torch.zeros_like(x).scatter_(dim, x.argmax(dim, True), 1.0)\n",
    "\n",
    "Max = semiring(zero=neginf, one=0., mul=torch.add, sum=(lambda x, dim=0: torch.max(x, dim=dim)[0]), dsum=max_grad)\n",
    "cupy_funcs[(torch.float32, Max)] = load_cupy_func('cuda/ctc.cu', 'fwd_bwd_logspace', FLOAT='float',  SUM='max3', MUL='add', ZERO='{:E}'.format(Log.zero))\n",
    "cupy_funcs[(torch.float64, Max)] = load_cupy_func('cuda/ctc.cu', 'fwd_bwd_logspace', FLOAT='double', SUM='max3', MUL='add', ZERO='{:E}'.format(Log.zero))\n",
    "\n",
    "class _LogzViterbi(torch.autograd.Function):\n",
    "    @staticmethod\n",
    "    def forward(ctx, state_scores, repeat_mask, final_states, input_lengths, fwd_bwd_impl):\n",
    "        alpha, beta, logz = fwd_bwd(state_scores, repeat_mask, final_states, input_lengths, fwd_bwd_impl, Max)\n",
    "        ctx.save_for_backward(alpha, beta, input_lengths)\n",
    "        return logz\n",
    "\n",
    "    @staticmethod\n",
    "    def backward(ctx, grad):\n",
    "        alpha, beta, input_lengths = ctx.saved_tensors\n",
    "        g = max_grad(alpha[1:] + beta[1:], dim=2) * masked_grad(grad.expand(alpha.size(0)-1, -1), input_lengths)\n",
    "        return g, None, None, None, None"
   ]
  },
  {
   "cell_type": "code",
   "execution_count": null,
   "metadata": {},
   "outputs": [],
   "source": [
    "#export\n",
    "def viterbi_alignments(logits, targets, input_lengths, target_lengths):\n",
    "    state_scores, repeat_mask, final_states, input_lengths = prepare_inputs(logits.log_softmax(2), targets, input_lengths, target_lengths)\n",
    "    _LogzViterbi.apply(state_scores.detach_().requires_grad_(), repeat_mask, final_states, input_lengths, _fwd_bwd_cupy).sum().backward()\n",
    "    return state_scores.grad\n",
    "\n",
    "def soft_alignments(logits, targets, input_lengths, target_lengths, beta=1.0):\n",
    "    state_scores, repeat_mask, final_states, input_lengths = prepare_inputs((logits*beta).log_softmax(2), targets, input_lengths, target_lengths)\n",
    "    _Logz.apply(state_scores.detach_().requires_grad_(), repeat_mask, final_states, input_lengths, _fwd_bwd_cupy).sum().backward()\n",
    "    return state_scores.grad"
   ]
  },
  {
   "cell_type": "code",
   "execution_count": null,
   "metadata": {},
   "outputs": [
    {
     "data": {
      "image/png": "[encoded data removed]",
      "text/plain": [
       "<Figure size 1080x576 with 4 Axes>"
      ]
     },
     "metadata": {
      "needs_background": "light",
      "tags": []
     },
     "output_type": "display_data"
    }
   ],
   "source": [
    "import matplotlib.pyplot as plt\n",
    "betas = [0.1, 1.0, 10.]\n",
    "alignments = {'beta={:.1f}'.format(beta): to_np(soft_alignments(*sample_inputs, beta=beta)) for beta in betas}\n",
    "alignments['viterbi'] = to_np(viterbi_alignments(*sample_inputs)\n",
    "fig, axs = plt.subplots(2, 2, figsize=(15, 8))\n",
    "for (ax, (title, data)) in zip(np.array(axs).flatten(), alignments.items()):\n",
    "    ax.imshow(data[:, 0].T, vmax=0.05);\n",
    "    ax.set_title(title)  "
   ]
  },
  {
   "cell_type": "markdown",
   "metadata": {},
   "source": [
    "## Direct loss calculation"
   ]
  },
  {
   "cell_type": "markdown",
   "metadata": {},
   "source": [
    "Just for fun, here's a numerically unstable direct space calculation of the loss. We can try to fix the numerical instability (by pre-conditioning the transition probs and normalising the fwd_bwd state at regular intervals) if we need this at a later point."
   ]
  },
  {
   "cell_type": "code",
   "execution_count": null,
   "metadata": {},
   "outputs": [],
   "source": [
    "#export\n",
    "Prob = semiring(zero=0., one=1., mul=torch.mul, sum=torch.sum, dsum=(lambda x, dim=0: torch.ones_like))\n",
    "cupy_funcs[(torch.float64, Prob)] = load_cupy_func('cuda/ctc.cu', 'fwd_bwd_logspace', FLOAT='double', SUM='sum3', MUL='mul', ZERO='0.0')\n",
    "\n",
    "class _LogzDirect(torch.autograd.Function):\n",
    "    @staticmethod\n",
    "    def forward(ctx, state_scores, repeat_mask, final_states, input_lengths, fwd_bwd_impl):\n",
    "        alpha, beta, z = fwd_bwd(state_scores, repeat_mask, final_states, input_lengths, fwd_bwd_impl, Prob)\n",
    "        ctx.save_for_backward(alpha, beta, state_scores, input_lengths)\n",
    "        return torch.log(z)\n",
    "\n",
    "    @staticmethod\n",
    "    def backward(ctx, grad):\n",
    "        alpha, beta, state_probs, input_lengths = ctx.saved_tensors\n",
    "        g = alpha[1:]*beta[1:]\n",
    "        g = (g/state_probs)*masked_grad(grad.expand(alpha.size(0)-1, -1), input_lengths)/(g.sum(-1, keepdim=True)+1e-38) \n",
    "        return g, None, None, None, None\n",
    "\n",
    "def loss_direct_cupy(logits, targets, input_lengths, target_lengths):\n",
    "    logz = _LogzDirect.apply(*prepare_inputs(logits.softmax(2), targets, input_lengths, target_lengths), _fwd_bwd_cupy)\n",
    "    return - (logz / target_lengths).mean()"
   ]
  },
  {
   "cell_type": "markdown",
   "metadata": {},
   "source": [
    "Here's a mini test example which is short enough not to suffer from too much numerical instability (at least in double precision!)"
   ]
  },
  {
   "cell_type": "code",
   "execution_count": null,
   "metadata": {},
   "outputs": [
    {
     "name": "stdout",
     "output_type": "stream",
     "text": [
      "fwd diff: 0.00e+00\n",
      "bwd diff: 2.35e-08\n"
     ]
    }
   ],
   "source": [
    "logits, targets, input_lengths, target_lengths = generate_sample_inputs(T_min=25, T_max=30, N=32, C=20, L_min=10, L_max=12)\n",
    "fwds, bwds = compare_fwd_bwd(float64(loss_pytorch), float64(loss_direct_cupy), logits, targets, input_lengths, target_lengths)"
   ]
  },
  {
   "cell_type": "code",
   "execution_count": null,
   "metadata": {},
   "outputs": [],
   "source": [
    ""
   ]
  }
 ],
 "metadata": {
  "kernelspec": {
   "display_name": "Python 3",
   "name": "python3"
  }
 },
 "nbformat": 4,
 "nbformat_minor": 0
}
