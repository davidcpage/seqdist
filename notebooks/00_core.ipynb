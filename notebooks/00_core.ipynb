{
 "cells": [
  {
   "cell_type": "code",
   "execution_count": null,
   "metadata": {},
   "outputs": [],
   "source": [
    "# default_exp core"
   ]
  },
  {
   "cell_type": "markdown",
   "metadata": {},
   "source": [
    "# Core\n",
    "Basic functionality\n"
   ]
  },
  {
   "cell_type": "code",
   "execution_count": null,
   "metadata": {},
   "outputs": [],
   "source": [
    "#export\n",
    "import torch\n",
    "from collections import namedtuple"
   ]
  },
  {
   "cell_type": "code",
   "execution_count": null,
   "metadata": {},
   "outputs": [],
   "source": [
    "#export\n",
    "semiring = namedtuple('semiring', ('zero', 'one', 'mul', 'sum', 'dsum'))\n",
    "\n",
    "def max_grad(x, dim=0): \n",
    "    return torch.zeros_like(x).scatter_(dim, x.argmax(dim, True), 1.0)\n",
    "\n",
    "Log = semiring(zero=-1e38, one=0., mul=torch.add, sum=torch.logsumexp, dsum=torch.softmax)\n",
    "Max = semiring(zero=-1e38, one=0., mul=torch.add, sum=(lambda x, dim=0: torch.max(x, dim=dim)[0]), dsum=max_grad)"
   ]
  },
  {
   "cell_type": "code",
   "execution_count": null,
   "metadata": {},
   "outputs": [],
   "source": [
    "#export\n",
    "def grad(f, x):\n",
    "    x = x.detach().requires_grad_()\n",
    "    with torch.enable_grad():\n",
    "        y = f(x)\n",
    "    return torch.autograd.grad(y, x)[0].detach()\n",
    "\n",
    "class SequenceDist():\n",
    "    def __init__(self):\n",
    "        pass\n",
    "        \n",
    "    def logZ(self, scores, S:semiring=Log):\n",
    "        raise NotImplementedError\n",
    "\n",
    "    def viterbi(self, scores):\n",
    "        raise NotImplementedError\n",
    "   \n",
    "    def ctc_loss(self, scores, targets, target_lengths):\n",
    "        raise NotImplementedError\n",
    "\n",
    "    def posteriors(self, scores, S:semiring=Log):\n",
    "        f = lambda x: self.logZ(x, S).sum()\n",
    "        return grad(f, scores)      "
   ]
  }
 ],
 "metadata": {
  "kernelspec": {
   "display_name": "Python 3",
   "name": "python3"
  }
 },
 "nbformat": 4,
 "nbformat_minor": 0
}
