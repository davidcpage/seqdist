{
 "cells": [
  {
   "cell_type": "markdown",
   "metadata": {},
   "source": [
    "<a href=\"https://colab.research.google.com/github/davidcpage/seqdist/blob/master/notebooks/00_utils.ipynb\" target=\"_parent\"><img src=\"https://colab.research.google.com/assets/colab-badge.svg\" alt=\"Open In Colab\"/></a>"
   ]
  },
  {
   "cell_type": "code",
   "execution_count": null,
   "metadata": {},
   "outputs": [],
   "source": [
    "# default_exp utils"
   ]
  },
  {
   "cell_type": "markdown",
   "metadata": {},
   "source": [
    "# Utils\n",
    "\n",
    "> Functions for benchmarking, comparing implementations and general utilities."
   ]
  },
  {
   "cell_type": "code",
   "execution_count": null,
   "metadata": {},
   "outputs": [],
   "source": [
    "#export\n",
    "import torch\n",
    "import numpy as np\n",
    "import cupy as cp\n",
    "from pathlib import Path"
   ]
  },
  {
   "cell_type": "markdown",
   "metadata": {},
   "source": [
    "## Pytorch utils"
   ]
  },
  {
   "cell_type": "code",
   "execution_count": null,
   "metadata": {},
   "outputs": [],
   "source": [
    "#export\n",
    "def to_np(x):\n",
    "    return x.clone().detach().cpu().numpy()\n",
    "\n",
    "def zero_grad(*xs):\n",
    "    return [x.grad.zero_() for x in xs if hasattr(x, 'grad') and x.grad is not None]\n",
    "\n",
    "def float64(func):\n",
    "    return lambda *args: func(*[x.to(torch.float64) if hasattr(x, 'dtype') and x.dtype is torch.float else x for x in args]) \n",
    "\n",
    "def compare_fwd_bwd(impl_A, impl_B, inputs, *args):\n",
    "    fwds, bwds = [], []\n",
    "    for impl in (impl_A, impl_B):\n",
    "        fwd = impl(inputs, *args)\n",
    "        fwd.backward()\n",
    "        fwds.append(to_np(fwd))\n",
    "        bwds.append(to_np(inputs.grad))\n",
    "        zero_grad(inputs)\n",
    "    print('fwd diff: {:.2e}'.format(np.max(np.abs(fwds[0]-fwds[1]))))\n",
    "    print('bwd diff: {:.2e}'.format(np.max(np.abs(bwds[0]-bwds[1]))))\n",
    "    return fwds, bwds"
   ]
  },
  {
   "cell_type": "markdown",
   "metadata": {},
   "source": [
    "## Benchmarking"
   ]
  },
  {
   "cell_type": "code",
   "execution_count": null,
   "metadata": {},
   "outputs": [],
   "source": [
    "#export\n",
    "def timed(func, *inputs):\n",
    "    start, end = [torch.cuda.Event(enable_timing=True) for _ in range(2)]\n",
    "    start.record(); output = func(*inputs); end.record()\n",
    "    torch.cuda.synchronize()\n",
    "    return output, start.elapsed_time(end)\n",
    "\n",
    "def benchmark_fwd_bwd(fwd_impl, *inputs, warmup=5, nloops=20):\n",
    "    def fwd_bwd_times(fwd_impl, *inputs):\n",
    "        output, fwd_time = timed(fwd_impl, *inputs)\n",
    "        _, bwd_time = timed(output.backward) \n",
    "        zero_grad(*inputs) \n",
    "        return (fwd_time, bwd_time)       \n",
    "    [fwd_bwd_times(fwd_impl, *inputs) for _ in range(warmup)]\n",
    "    fwd_times, bwd_times = map(np.array, zip(*[fwd_bwd_times(fwd_impl, *inputs) for _ in range(nloops)]))\n",
    "    return {'fwd': fwd_times, 'bwd': bwd_times, 'tot': fwd_times+bwd_times}\n",
    "\n",
    "def report(times):\n",
    "    for k,v in times.items():\n",
    "        print('{!s}: {:.2f}ms ({:.2f}-{:.2f}ms)'.format(k, v.mean(), v.min(), v.max()))"
   ]
  },
  {
   "cell_type": "markdown",
   "metadata": {},
   "source": [
    "## Cupy utils"
   ]
  },
  {
   "cell_type": "code",
   "execution_count": null,
   "metadata": {},
   "outputs": [],
   "source": [
    "#export\n",
    "def load_cupy_func(fname, name, **kwargs):\n",
    "    try: fname = str((Path(__file__).parent / fname).resolve())\n",
    "    except: pass\n",
    "    with open(fname) as f:\n",
    "        code = f.read()\n",
    "    macros = ['#define {!s} {!s}'.format(k, v) for k,v in kwargs.items()]\n",
    "    code = '\\n'.join(macros + [code])\n",
    "    return cp.RawKernel(code, name)\n",
    "\n",
    "def load_cupy_module(fname, **kwargs):\n",
    "    try: fname = str((Path(__file__).parent / fname).resolve())\n",
    "    except: pass\n",
    "    with open(fname) as f:\n",
    "        code = f.read()\n",
    "    macros = ['#define {!s} {!s}'.format(k, v) for k,v in kwargs.items()]\n",
    "    code = '\\n'.join(macros + [code])\n",
    "    return cp.RawModule(code=code)"
   ]
  }
 ],
 "metadata": {
  "kernelspec": {
   "display_name": "Python 3",
   "language": "python",
   "name": "python3"
  }
 },
 "nbformat": 4,
 "nbformat_minor": 0
}
